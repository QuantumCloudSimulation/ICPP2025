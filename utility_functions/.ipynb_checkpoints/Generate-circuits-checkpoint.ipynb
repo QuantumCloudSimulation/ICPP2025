{
 "cells": [
  {
   "cell_type": "code",
   "execution_count": 2,
   "id": "b0ab1ef8-4d22-4ca7-82bd-bc0d9b4ef0b2",
   "metadata": {},
   "outputs": [
    {
     "name": "stdout",
     "output_type": "stream",
     "text": [
      "CSV file '1000-large-circuits.csv' has been created successfully with 1000 rows.\n"
     ]
    }
   ],
   "source": [
    "import csv\n",
    "import random\n",
    "\n",
    "# Define the file name\n",
    "csv_filename = \"1000-large-circuits.csv\"\n",
    "\n",
    "# Define the headers\n",
    "headers = [\"job_id\", \"num_qubits\", \"depth\", \"priority\", \"arrival_time\", \"num_shots\"]\n",
    "\n",
    "# Generate random sample data\n",
    "num_rows = 1000  # Define the number of rows you want to generate\n",
    "\n",
    "data = []\n",
    "for job_id in range(1, num_rows + 1):\n",
    "    num_qubits = random.randint(130, 250)  # Random number of qubits between 10 and 20\n",
    "    depth = random.randint(5, 20)  # Random depth between 5 and 20\n",
    "    priority = 2  # Random priority between 1 and 3\n",
    "    arrival_time = \"\"  # Keeping it empty\n",
    "    num_shots = random.randint(100, 1000)*100  # Random shots between 8000 and 20000\n",
    "    data.append([job_id, num_qubits, depth, priority, arrival_time, num_shots])\n",
    "\n",
    "# Write to the CSV file\n",
    "with open(csv_filename, mode=\"w\", newline=\"\") as file:\n",
    "    writer = csv.writer(file)\n",
    "    writer.writerow(headers)  # Write the header\n",
    "    writer.writerows(data)  # Write the data\n",
    "\n",
    "print(f\"CSV file '{csv_filename}' has been created successfully with {num_rows} rows.\")"
   ]
  },
  {
   "cell_type": "code",
   "execution_count": null,
   "id": "0528055a-04ff-468a-8fe9-8edd37a73b0b",
   "metadata": {},
   "outputs": [],
   "source": []
  }
 ],
 "metadata": {
  "kernelspec": {
   "display_name": "Python 3 (ipykernel)",
   "language": "python",
   "name": "python3"
  },
  "language_info": {
   "codemirror_mode": {
    "name": "ipython",
    "version": 3
   },
   "file_extension": ".py",
   "mimetype": "text/x-python",
   "name": "python",
   "nbconvert_exporter": "python",
   "pygments_lexer": "ipython3",
   "version": "3.10.9"
  }
 },
 "nbformat": 4,
 "nbformat_minor": 5
}
