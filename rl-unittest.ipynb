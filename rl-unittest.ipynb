{
 "cells": [
  {
   "cell_type": "code",
   "execution_count": 1,
   "id": "7e62b50e-900d-4916-a7aa-73c41b033882",
   "metadata": {},
   "outputs": [
    {
     "name": "stdout",
     "output_type": "stream",
     "text": [
      "Allocation mode: rlbase\n",
      "Total Sim-time: 328.7690804597701\n",
      "fidelity: 0.6123 +/- 0.0\n",
      "Comm time: 6.92\n",
      "---------------------------\n"
     ]
    }
   ],
   "source": [
    "from QCloud import *\n",
    "import numpy as np\n",
    "import matplotlib.pyplot as plt\n",
    "\n",
    "def sum_nested_list(nested_list):\n",
    "    total_sum = 0\n",
    "    for item in nested_list:\n",
    "        if isinstance(item, list):  # If the item is a list, sum its elements\n",
    "            total_sum += sum(item)\n",
    "        else:  # If it's a number, add it directly\n",
    "            total_sum += item\n",
    "    return total_sum\n",
    "\n",
    "def calculate_fidelity(job_records):\n",
    "    num_of_devices = []\n",
    "    fidelity = []\n",
    "    for job_id, events in job_records.items():\n",
    "        # print(f\"Job ID: {job_id}, Events: {events}\")\n",
    "        num_of_devices.append(len(events['devc_proc']))\n",
    "        fidelity.append(events['fidelity'])\n",
    "    print(f'fidelity: {round(np.mean(fidelity), 5)} +/- {round(np.std(fidelity), 5)}')\n",
    "    return num_of_devices, fidelity\n",
    "    \n",
    "def calculate_comm_time(job_records): \n",
    "    comm_time = []\n",
    "    for job_id, events in job_records.items():\n",
    "        # print(f\"Job ID: {job_id}, Events: {events}\")\n",
    "        comm_time.append(events['comm_time'])\n",
    "    print(f'Comm time: {round(sum_nested_list(comm_time), 5)}')\n",
    "    \n",
    "# deploying jobs from CSV file. \n",
    "allocation_mode = ['rlbase']\n",
    "num_of_devices = {}\n",
    "fidelity_list = {}\n",
    "PRINTLOG = False\n",
    "\n",
    "for al_mode in allocation_mode: \n",
    "    # Create quantum devices\n",
    "    ibm_strasbourg = IBM_Strasbourg(env=None, name=\"ibm_strasbourg\", cali_filepath='QCloud/calibration/03_2025/ibm_strasbourg_calibrations_2025-03-29T05_16_26Z.csv', printlog = PRINTLOG)\n",
    "    ibm_brussels = IBM_Brussels(env=None, name=\"ibm_brussels\", cali_filepath='QCloud/calibration/03_2025/ibm_brussels_calibrations_2025-03-30T02_20_13Z.csv', printlog = PRINTLOG)\n",
    "    ibm_kyiv = IBM_Kyiv(env=None, name=\"ibm_kyiv\", cali_filepath='QCloud/calibration/03_2025/ibm_kyiv_calibrations_2025-03-30T02_24_45Z.csv', printlog = PRINTLOG)\n",
    "    ibm_quebec = IBM_Quebec(env=None, name=\"ibm_quebec\", cali_filepath='QCloud/calibration/03_2025/ibm_quebec_calibrations_2025-03-30T02_51_33Z.csv', printlog = PRINTLOG)\n",
    "    ibm_kawasaki = IBM_Kawasaki(env=None, name=\"ibm_kawasaki\", cali_filepath='QCloud/calibration/03_2025/ibm_kawasaki_calibrations_2025-03-30T03_15_05Z.csv', printlog = PRINTLOG)\n",
    "\n",
    "    devices = [ibm_strasbourg, ibm_brussels, ibm_kyiv, ibm_quebec, ibm_kawasaki]\n",
    "\n",
    "    # Initialize and run the simulation using jobs from a CSV file\n",
    "    qcloudsimenv = QCloudSimEnv(\n",
    "        devices=devices,\n",
    "        broker_class=ParallelBroker,\n",
    "        job_feed_method=\"dispatcher\",\n",
    "        file_path=\"synth_job_batches/1-large-circuits.csv\", \n",
    "        allocation_mode=al_mode,\n",
    "        printlog = PRINTLOG\n",
    "    )\n",
    "    qcloudsimenv.run()\n",
    "    print(f'Allocation mode: {al_mode}')\n",
    "    print(f'Total Sim-time: {qcloudsimenv.now}')\n",
    "\n",
    "    # Calculate Fidelity and communication time\n",
    "    # Access job records after the simulation\n",
    "    job_records = qcloudsimenv.job_records_manager.get_job_records()\n",
    "    num_of_devices[al_mode], fidelity_list[al_mode] = calculate_fidelity(job_records)\n",
    "    calculate_comm_time(job_records)\n",
    "    print('---------------------------')"
   ]
  }
 ],
 "metadata": {
  "kernelspec": {
   "display_name": "Python 3 (ipykernel)",
   "language": "python",
   "name": "python3"
  },
  "language_info": {
   "codemirror_mode": {
    "name": "ipython",
    "version": 3
   },
   "file_extension": ".py",
   "mimetype": "text/x-python",
   "name": "python",
   "nbconvert_exporter": "python",
   "pygments_lexer": "ipython3",
   "version": "3.10.9"
  }
 },
 "nbformat": 4,
 "nbformat_minor": 5
}
